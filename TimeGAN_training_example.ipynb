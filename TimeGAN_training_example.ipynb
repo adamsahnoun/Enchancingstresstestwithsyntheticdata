{
  "cells": [
    {
      "cell_type": "markdown",
      "metadata": {
        "id": "ZExT1kVYhOfF"
      },
      "source": [
        "DRIVE MOUNT"
      ]
    },
    {
      "cell_type": "code",
      "execution_count": null,
      "metadata": {
        "colab": {
          "base_uri": "https://localhost:8080/"
        },
        "id": "g1lFlQ-2g1MW",
        "outputId": "a2b13204-493a-47ac-8b5c-747cb6fc275f"
      },
      "outputs": [
        {
          "output_type": "stream",
          "name": "stdout",
          "text": [
            "Drive already mounted at /content/drive; to attempt to forcibly remount, call drive.mount(\"/content/drive\", force_remount=True).\n"
          ]
        }
      ],
      "source": [
        "from google.colab import drive\n",
        "drive.mount('/content/drive')"
      ]
    },
    {
      "cell_type": "markdown",
      "metadata": {
        "id": "emMW7718fGBq"
      },
      "source": [
        "RUNTIME"
      ]
    },
    {
      "cell_type": "code",
      "execution_count": null,
      "metadata": {
        "colab": {
          "base_uri": "https://localhost:8080/"
        },
        "id": "9w5GeD-FfCbG",
        "outputId": "84acd81f-6ab9-4ba4-92a9-137c5858f284"
      },
      "outputs": [
        {
          "output_type": "stream",
          "name": "stdout",
          "text": [
            "Wed Jun 21 11:19:14 2023       \n",
            "+-----------------------------------------------------------------------------+\n",
            "| NVIDIA-SMI 525.85.12    Driver Version: 525.85.12    CUDA Version: 12.0     |\n",
            "|-------------------------------+----------------------+----------------------+\n",
            "| GPU  Name        Persistence-M| Bus-Id        Disp.A | Volatile Uncorr. ECC |\n",
            "| Fan  Temp  Perf  Pwr:Usage/Cap|         Memory-Usage | GPU-Util  Compute M. |\n",
            "|                               |                      |               MIG M. |\n",
            "|===============================+======================+======================|\n",
            "|   0  NVIDIA A100-SXM...  Off  | 00000000:00:04.0 Off |                    0 |\n",
            "| N/A   33C    P0    42W / 400W |      0MiB / 40960MiB |      0%      Default |\n",
            "|                               |                      |             Disabled |\n",
            "+-------------------------------+----------------------+----------------------+\n",
            "                                                                               \n",
            "+-----------------------------------------------------------------------------+\n",
            "| Processes:                                                                  |\n",
            "|  GPU   GI   CI        PID   Type   Process name                  GPU Memory |\n",
            "|        ID   ID                                                   Usage      |\n",
            "|=============================================================================|\n",
            "|  No running processes found                                                 |\n",
            "+-----------------------------------------------------------------------------+\n"
          ]
        }
      ],
      "source": [
        "gpu_info = !nvidia-smi\n",
        "gpu_info = '\\n'.join(gpu_info)\n",
        "if gpu_info.find('failed') >= 0:\n",
        "  print('Not connected to a GPU')\n",
        "else:\n",
        "  print(gpu_info)"
      ]
    },
    {
      "cell_type": "code",
      "execution_count": null,
      "metadata": {
        "colab": {
          "base_uri": "https://localhost:8080/"
        },
        "id": "qpu-1JWxfXq4",
        "outputId": "14148762-e067-44b6-a550-d85fecbff1c5"
      },
      "outputs": [
        {
          "output_type": "stream",
          "name": "stdout",
          "text": [
            "Your runtime has 89.6 gigabytes of available RAM\n",
            "\n",
            "You are using a high-RAM runtime!\n"
          ]
        }
      ],
      "source": [
        "from psutil import virtual_memory\n",
        "ram_gb = virtual_memory().total / 1e9\n",
        "print('Your runtime has {:.1f} gigabytes of available RAM\\n'.format(ram_gb))\n",
        "\n",
        "if ram_gb < 20:\n",
        "  print('Not using a high-RAM runtime')\n",
        "else:\n",
        "  print('You are using a high-RAM runtime!')"
      ]
    },
    {
      "cell_type": "code",
      "execution_count": null,
      "metadata": {
        "colab": {
          "base_uri": "https://localhost:8080/"
        },
        "id": "JtZBat2QOjob",
        "outputId": "aeed0af9-0a95-4082-cd00-71e15f2d4ea1"
      },
      "outputs": [
        {
          "output_type": "stream",
          "name": "stdout",
          "text": [
            "Looking in indexes: https://pypi.org/simple, https://us-python.pkg.dev/colab-wheels/public/simple/\n",
            "Requirement already satisfied: ydata_synthetic in /usr/local/lib/python3.10/dist-packages (1.2.0)\n",
            "Requirement already satisfied: requests<2.31,>=2.30 in /usr/local/lib/python3.10/dist-packages (from ydata_synthetic) (2.30.0)\n",
            "Requirement already satisfied: pandas==2.0.* in /usr/local/lib/python3.10/dist-packages (from ydata_synthetic) (2.0.2)\n",
            "Requirement already satisfied: numpy==1.23.* in /usr/local/lib/python3.10/dist-packages (from ydata_synthetic) (1.23.5)\n",
            "Requirement already satisfied: scikit-learn==1.2.* in /usr/local/lib/python3.10/dist-packages (from ydata_synthetic) (1.2.2)\n",
            "Requirement already satisfied: matplotlib==3.6.* in /usr/local/lib/python3.10/dist-packages (from ydata_synthetic) (3.6.3)\n",
            "Requirement already satisfied: tensorflow==2.11.1 in /usr/local/lib/python3.10/dist-packages (from ydata_synthetic) (2.11.1)\n",
            "Requirement already satisfied: tensorflow-probability==0.19.0 in /usr/local/lib/python3.10/dist-packages (from ydata_synthetic) (0.19.0)\n",
            "Requirement already satisfied: easydict==1.10 in /usr/local/lib/python3.10/dist-packages (from ydata_synthetic) (1.10)\n",
            "Requirement already satisfied: pmlb==1.0.* in /usr/local/lib/python3.10/dist-packages (from ydata_synthetic) (1.0.1.post3)\n",
            "Requirement already satisfied: tqdm<5.0 in /usr/local/lib/python3.10/dist-packages (from ydata_synthetic) (4.65.0)\n",
            "Requirement already satisfied: typeguard==2.13.* in /usr/local/lib/python3.10/dist-packages (from ydata_synthetic) (2.13.3)\n",
            "Requirement already satisfied: pytest==6.2.* in /usr/local/lib/python3.10/dist-packages (from ydata_synthetic) (6.2.5)\n",
            "Requirement already satisfied: contourpy>=1.0.1 in /usr/local/lib/python3.10/dist-packages (from matplotlib==3.6.*->ydata_synthetic) (1.0.7)\n",
            "Requirement already satisfied: cycler>=0.10 in /usr/local/lib/python3.10/dist-packages (from matplotlib==3.6.*->ydata_synthetic) (0.11.0)\n",
            "Requirement already satisfied: fonttools>=4.22.0 in /usr/local/lib/python3.10/dist-packages (from matplotlib==3.6.*->ydata_synthetic) (4.39.3)\n",
            "Requirement already satisfied: kiwisolver>=1.0.1 in /usr/local/lib/python3.10/dist-packages (from matplotlib==3.6.*->ydata_synthetic) (1.4.4)\n",
            "Requirement already satisfied: packaging>=20.0 in /usr/local/lib/python3.10/dist-packages (from matplotlib==3.6.*->ydata_synthetic) (23.1)\n",
            "Requirement already satisfied: pillow>=6.2.0 in /usr/local/lib/python3.10/dist-packages (from matplotlib==3.6.*->ydata_synthetic) (8.4.0)\n",
            "Requirement already satisfied: pyparsing>=2.2.1 in /usr/local/lib/python3.10/dist-packages (from matplotlib==3.6.*->ydata_synthetic) (3.0.9)\n",
            "Requirement already satisfied: python-dateutil>=2.7 in /usr/local/lib/python3.10/dist-packages (from matplotlib==3.6.*->ydata_synthetic) (2.8.2)\n",
            "Requirement already satisfied: pytz>=2020.1 in /usr/local/lib/python3.10/dist-packages (from pandas==2.0.*->ydata_synthetic) (2022.7.1)\n",
            "Requirement already satisfied: tzdata>=2022.1 in /usr/local/lib/python3.10/dist-packages (from pandas==2.0.*->ydata_synthetic) (2023.3)\n",
            "Requirement already satisfied: pyyaml>=5.3.1 in /usr/local/lib/python3.10/dist-packages (from pmlb==1.0.*->ydata_synthetic) (6.0)\n",
            "Requirement already satisfied: attrs>=19.2.0 in /usr/local/lib/python3.10/dist-packages (from pytest==6.2.*->ydata_synthetic) (23.1.0)\n",
            "Requirement already satisfied: iniconfig in /usr/local/lib/python3.10/dist-packages (from pytest==6.2.*->ydata_synthetic) (2.0.0)\n",
            "Requirement already satisfied: pluggy<2.0,>=0.12 in /usr/local/lib/python3.10/dist-packages (from pytest==6.2.*->ydata_synthetic) (1.0.0)\n",
            "Requirement already satisfied: py>=1.8.2 in /usr/local/lib/python3.10/dist-packages (from pytest==6.2.*->ydata_synthetic) (1.11.0)\n",
            "Requirement already satisfied: toml in /usr/local/lib/python3.10/dist-packages (from pytest==6.2.*->ydata_synthetic) (0.10.2)\n",
            "Requirement already satisfied: scipy>=1.3.2 in /usr/local/lib/python3.10/dist-packages (from scikit-learn==1.2.*->ydata_synthetic) (1.10.1)\n",
            "Requirement already satisfied: joblib>=1.1.1 in /usr/local/lib/python3.10/dist-packages (from scikit-learn==1.2.*->ydata_synthetic) (1.2.0)\n",
            "Requirement already satisfied: threadpoolctl>=2.0.0 in /usr/local/lib/python3.10/dist-packages (from scikit-learn==1.2.*->ydata_synthetic) (3.1.0)\n",
            "Requirement already satisfied: absl-py>=1.0.0 in /usr/local/lib/python3.10/dist-packages (from tensorflow==2.11.1->ydata_synthetic) (1.4.0)\n",
            "Requirement already satisfied: astunparse>=1.6.0 in /usr/local/lib/python3.10/dist-packages (from tensorflow==2.11.1->ydata_synthetic) (1.6.3)\n",
            "Requirement already satisfied: flatbuffers>=2.0 in /usr/local/lib/python3.10/dist-packages (from tensorflow==2.11.1->ydata_synthetic) (23.3.3)\n",
            "Requirement already satisfied: gast<=0.4.0,>=0.2.1 in /usr/local/lib/python3.10/dist-packages (from tensorflow==2.11.1->ydata_synthetic) (0.4.0)\n",
            "Requirement already satisfied: google-pasta>=0.1.1 in /usr/local/lib/python3.10/dist-packages (from tensorflow==2.11.1->ydata_synthetic) (0.2.0)\n",
            "Requirement already satisfied: grpcio<2.0,>=1.24.3 in /usr/local/lib/python3.10/dist-packages (from tensorflow==2.11.1->ydata_synthetic) (1.54.0)\n",
            "Requirement already satisfied: h5py>=2.9.0 in /usr/local/lib/python3.10/dist-packages (from tensorflow==2.11.1->ydata_synthetic) (3.8.0)\n",
            "Requirement already satisfied: keras<2.12,>=2.11.0 in /usr/local/lib/python3.10/dist-packages (from tensorflow==2.11.1->ydata_synthetic) (2.11.0)\n",
            "Requirement already satisfied: libclang>=13.0.0 in /usr/local/lib/python3.10/dist-packages (from tensorflow==2.11.1->ydata_synthetic) (16.0.0)\n",
            "Requirement already satisfied: opt-einsum>=2.3.2 in /usr/local/lib/python3.10/dist-packages (from tensorflow==2.11.1->ydata_synthetic) (3.3.0)\n",
            "Requirement already satisfied: protobuf<3.20,>=3.9.2 in /usr/local/lib/python3.10/dist-packages (from tensorflow==2.11.1->ydata_synthetic) (3.19.6)\n",
            "Requirement already satisfied: setuptools in /usr/local/lib/python3.10/dist-packages (from tensorflow==2.11.1->ydata_synthetic) (67.7.2)\n",
            "Requirement already satisfied: six>=1.12.0 in /usr/local/lib/python3.10/dist-packages (from tensorflow==2.11.1->ydata_synthetic) (1.16.0)\n",
            "Requirement already satisfied: tensorboard<2.12,>=2.11 in /usr/local/lib/python3.10/dist-packages (from tensorflow==2.11.1->ydata_synthetic) (2.11.2)\n",
            "Requirement already satisfied: tensorflow-estimator<2.12,>=2.11.0 in /usr/local/lib/python3.10/dist-packages (from tensorflow==2.11.1->ydata_synthetic) (2.11.0)\n",
            "Requirement already satisfied: termcolor>=1.1.0 in /usr/local/lib/python3.10/dist-packages (from tensorflow==2.11.1->ydata_synthetic) (2.3.0)\n",
            "Requirement already satisfied: typing-extensions>=3.6.6 in /usr/local/lib/python3.10/dist-packages (from tensorflow==2.11.1->ydata_synthetic) (4.5.0)\n",
            "Requirement already satisfied: wrapt>=1.11.0 in /usr/local/lib/python3.10/dist-packages (from tensorflow==2.11.1->ydata_synthetic) (1.14.1)\n",
            "Requirement already satisfied: tensorflow-io-gcs-filesystem>=0.23.1 in /usr/local/lib/python3.10/dist-packages (from tensorflow==2.11.1->ydata_synthetic) (0.32.0)\n",
            "Requirement already satisfied: decorator in /usr/local/lib/python3.10/dist-packages (from tensorflow-probability==0.19.0->ydata_synthetic) (4.4.2)\n",
            "Requirement already satisfied: cloudpickle>=1.3 in /usr/local/lib/python3.10/dist-packages (from tensorflow-probability==0.19.0->ydata_synthetic) (2.2.1)\n",
            "Requirement already satisfied: dm-tree in /usr/local/lib/python3.10/dist-packages (from tensorflow-probability==0.19.0->ydata_synthetic) (0.1.8)\n",
            "Requirement already satisfied: charset-normalizer<4,>=2 in /usr/local/lib/python3.10/dist-packages (from requests<2.31,>=2.30->ydata_synthetic) (2.0.12)\n",
            "Requirement already satisfied: idna<4,>=2.5 in /usr/local/lib/python3.10/dist-packages (from requests<2.31,>=2.30->ydata_synthetic) (3.4)\n",
            "Requirement already satisfied: urllib3<3,>=1.21.1 in /usr/local/lib/python3.10/dist-packages (from requests<2.31,>=2.30->ydata_synthetic) (1.26.15)\n",
            "Requirement already satisfied: certifi>=2017.4.17 in /usr/local/lib/python3.10/dist-packages (from requests<2.31,>=2.30->ydata_synthetic) (2022.12.7)\n",
            "Requirement already satisfied: wheel<1.0,>=0.23.0 in /usr/local/lib/python3.10/dist-packages (from astunparse>=1.6.0->tensorflow==2.11.1->ydata_synthetic) (0.40.0)\n",
            "Requirement already satisfied: google-auth<3,>=1.6.3 in /usr/local/lib/python3.10/dist-packages (from tensorboard<2.12,>=2.11->tensorflow==2.11.1->ydata_synthetic) (2.17.3)\n",
            "Requirement already satisfied: google-auth-oauthlib<0.5,>=0.4.1 in /usr/local/lib/python3.10/dist-packages (from tensorboard<2.12,>=2.11->tensorflow==2.11.1->ydata_synthetic) (0.4.6)\n",
            "Requirement already satisfied: markdown>=2.6.8 in /usr/local/lib/python3.10/dist-packages (from tensorboard<2.12,>=2.11->tensorflow==2.11.1->ydata_synthetic) (3.4.3)\n",
            "Requirement already satisfied: tensorboard-data-server<0.7.0,>=0.6.0 in /usr/local/lib/python3.10/dist-packages (from tensorboard<2.12,>=2.11->tensorflow==2.11.1->ydata_synthetic) (0.6.1)\n",
            "Requirement already satisfied: tensorboard-plugin-wit>=1.6.0 in /usr/local/lib/python3.10/dist-packages (from tensorboard<2.12,>=2.11->tensorflow==2.11.1->ydata_synthetic) (1.8.1)\n",
            "Requirement already satisfied: werkzeug>=1.0.1 in /usr/local/lib/python3.10/dist-packages (from tensorboard<2.12,>=2.11->tensorflow==2.11.1->ydata_synthetic) (2.3.0)\n",
            "Requirement already satisfied: cachetools<6.0,>=2.0.0 in /usr/local/lib/python3.10/dist-packages (from google-auth<3,>=1.6.3->tensorboard<2.12,>=2.11->tensorflow==2.11.1->ydata_synthetic) (5.3.0)\n",
            "Requirement already satisfied: pyasn1-modules>=0.2.1 in /usr/local/lib/python3.10/dist-packages (from google-auth<3,>=1.6.3->tensorboard<2.12,>=2.11->tensorflow==2.11.1->ydata_synthetic) (0.3.0)\n",
            "Requirement already satisfied: rsa<5,>=3.1.4 in /usr/local/lib/python3.10/dist-packages (from google-auth<3,>=1.6.3->tensorboard<2.12,>=2.11->tensorflow==2.11.1->ydata_synthetic) (4.9)\n",
            "Requirement already satisfied: requests-oauthlib>=0.7.0 in /usr/local/lib/python3.10/dist-packages (from google-auth-oauthlib<0.5,>=0.4.1->tensorboard<2.12,>=2.11->tensorflow==2.11.1->ydata_synthetic) (1.3.1)\n",
            "Requirement already satisfied: MarkupSafe>=2.1.1 in /usr/local/lib/python3.10/dist-packages (from werkzeug>=1.0.1->tensorboard<2.12,>=2.11->tensorflow==2.11.1->ydata_synthetic) (2.1.2)\n",
            "Requirement already satisfied: pyasn1<0.6.0,>=0.4.6 in /usr/local/lib/python3.10/dist-packages (from pyasn1-modules>=0.2.1->google-auth<3,>=1.6.3->tensorboard<2.12,>=2.11->tensorflow==2.11.1->ydata_synthetic) (0.5.0)\n",
            "Requirement already satisfied: oauthlib>=3.0.0 in /usr/local/lib/python3.10/dist-packages (from requests-oauthlib>=0.7.0->google-auth-oauthlib<0.5,>=0.4.1->tensorboard<2.12,>=2.11->tensorflow==2.11.1->ydata_synthetic) (3.2.2)\n"
          ]
        }
      ],
      "source": [
        "!pip install ydata_synthetic"
      ]
    },
    {
      "cell_type": "code",
      "execution_count": null,
      "metadata": {
        "id": "Vf7fVsh5OhoJ"
      },
      "outputs": [],
      "source": [
        "#Importing the required libs for the exercise\n",
        "\n",
        "from os import path\n",
        "import pandas as pd\n",
        "import numpy as np\n",
        "import matplotlib.pyplot as plt\n",
        "\n"
      ]
    },
    {
      "cell_type": "code",
      "execution_count": null,
      "metadata": {
        "id": "Hpn6D-VCigtC"
      },
      "outputs": [],
      "source": [
        "from ydata_synthetic.synthesizers import ModelParameters\n",
        "from ydata_synthetic.preprocessing.timeseries import processed_stock\n",
        "from ydata_synthetic.synthesizers.timeseries import TimeGAN"
      ]
    },
    {
      "cell_type": "code",
      "execution_count": null,
      "metadata": {
        "id": "n57Z0M_VPSuQ"
      },
      "outputs": [],
      "source": [
        "#configure TimeGAN\n",
        "seq_len=20\n",
        "n_seq = 1\n",
        "hidden_dim=20\n",
        "gamma=1\n",
        "\n",
        "noise_dim = 32\n",
        "dim = 128\n",
        "batch_size = 128\n",
        "\n",
        "log_step = 100\n",
        "learning_rate = 5e-4\n",
        "\n",
        "gan_args = ModelParameters(batch_size=batch_size,\n",
        "                           lr=learning_rate,\n",
        "                           noise_dim=noise_dim,\n",
        "                           layers_dim=dim)"
      ]
    },
    {
      "cell_type": "code",
      "source": [
        "import pandas as pd\n",
        "\n",
        "# Load the dataset\n",
        "df = pd.read_csv('/content/drive/MyDrive/data/real_data_example.csv')\n",
        "\n",
        "# Preview the dataset\n",
        "df.head()\n"
      ],
      "metadata": {
        "id": "7gvnB7SNjo-q"
      },
      "execution_count": null,
      "outputs": []
    },
    {
      "cell_type": "code",
      "source": [
        "import numpy as np\n",
        "\n",
        "# Remove the unnecessary column\n",
        "df = df.drop(columns=['Unnamed: 0'])\n",
        "\n",
        "# Convert each row to ndarray and collect them in a list\n",
        "stock_data = [np.array(row) for _, row in df.iterrows()]"
      ],
      "metadata": {
        "id": "RVPyuqhijyVk"
      },
      "execution_count": null,
      "outputs": []
    },
    {
      "cell_type": "code",
      "execution_count": null,
      "metadata": {
        "colab": {
          "base_uri": "https://localhost:8080/"
        },
        "id": "fHpv8fJA9BPQ",
        "outputId": "3e101fbb-92b4-4606-c471-9bb30f8dae1a"
      },
      "outputs": [
        {
          "output_type": "stream",
          "name": "stdout",
          "text": [
            "Starting iteration 1 of 6\n",
            "Model Loaded.\n"
          ]
        },
        {
          "output_type": "stream",
          "name": "stderr",
          "text": [
            "Emddeding network training: 100%|██████████| 3000/3000 [01:10<00:00, 42.28it/s]\n",
            "Supervised network training: 100%|██████████| 3000/3000 [00:52<00:00, 57.22it/s]\n",
            "Joint networks training: 100%|██████████| 3000/3000 [33:27<00:00,  1.49it/s]\n"
          ]
        },
        {
          "output_type": "stream",
          "name": "stdout",
          "text": [
            "Model Saved.\n",
            "Starting iteration 2 of 6\n",
            "Model Loaded.\n"
          ]
        },
        {
          "output_type": "stream",
          "name": "stderr",
          "text": [
            "Emddeding network training: 100%|██████████| 3000/3000 [01:07<00:00, 44.15it/s]\n",
            "Supervised network training: 100%|██████████| 3000/3000 [00:52<00:00, 57.16it/s]\n",
            "Joint networks training: 100%|██████████| 3000/3000 [33:31<00:00,  1.49it/s]\n"
          ]
        },
        {
          "output_type": "stream",
          "name": "stdout",
          "text": [
            "Model Saved.\n",
            "Starting iteration 3 of 6\n",
            "Model Loaded.\n"
          ]
        },
        {
          "output_type": "stream",
          "name": "stderr",
          "text": [
            "Emddeding network training: 100%|██████████| 3000/3000 [01:06<00:00, 45.17it/s]\n",
            "Supervised network training: 100%|██████████| 3000/3000 [00:52<00:00, 57.59it/s]\n",
            "Joint networks training: 100%|██████████| 3000/3000 [33:37<00:00,  1.49it/s]\n"
          ]
        },
        {
          "output_type": "stream",
          "name": "stdout",
          "text": [
            "Model Saved.\n",
            "Starting iteration 4 of 6\n",
            "Model Loaded.\n"
          ]
        },
        {
          "output_type": "stream",
          "name": "stderr",
          "text": [
            "Emddeding network training: 100%|██████████| 3000/3000 [01:06<00:00, 45.12it/s]\n",
            "Supervised network training: 100%|██████████| 3000/3000 [00:59<00:00, 50.81it/s]\n",
            "Joint networks training: 100%|██████████| 3000/3000 [33:25<00:00,  1.50it/s]\n"
          ]
        },
        {
          "output_type": "stream",
          "name": "stdout",
          "text": [
            "Model Saved.\n",
            "Starting iteration 5 of 6\n",
            "Model Loaded.\n"
          ]
        },
        {
          "output_type": "stream",
          "name": "stderr",
          "text": [
            "Emddeding network training: 100%|██████████| 3000/3000 [01:14<00:00, 40.18it/s]\n",
            "Supervised network training: 100%|██████████| 3000/3000 [00:52<00:00, 56.82it/s]\n",
            "Joint networks training: 100%|██████████| 3000/3000 [33:35<00:00,  1.49it/s]\n"
          ]
        },
        {
          "output_type": "stream",
          "name": "stdout",
          "text": [
            "Model Saved.\n",
            "Starting iteration 6 of 6\n",
            "Model Loaded.\n"
          ]
        },
        {
          "output_type": "stream",
          "name": "stderr",
          "text": [
            "Emddeding network training: 100%|██████████| 3000/3000 [01:06<00:00, 44.99it/s]\n",
            "Supervised network training: 100%|██████████| 3000/3000 [00:52<00:00, 57.12it/s]\n",
            "Joint networks training: 100%|██████████| 3000/3000 [33:31<00:00,  1.49it/s]"
          ]
        },
        {
          "output_type": "stream",
          "name": "stdout",
          "text": [
            "Model Saved.\n"
          ]
        },
        {
          "output_type": "stream",
          "name": "stderr",
          "text": [
            "\n"
          ]
        }
      ],
      "source": [
        "# Set your chosen number of steps per iteration and total iterations\n",
        "steps_per_iteration = 3000 # set as per your requirements\n",
        "total_iterations =  6 # total_steps = steps_per_iteration * total_iterations\n",
        "\n",
        "\n",
        "# Training loop\n",
        "for i in range(total_iterations):\n",
        "    print(f\"Starting iteration {i+1} of {total_iterations}\")\n",
        "\n",
        "    if os.path.exists('/content/drive/MyDrive/synthesizer_down.pkl'):\n",
        "\n",
        "      synth = TimeGAN.load('/content/drive/MyDrive/synthesizer_down.pkl')\n",
        "      print(\"Model Loaded.\")\n",
        "    else:\n",
        "      synth = TimeGAN(model_parameters=gan_args, hidden_dim=20, seq_len=seq_len, n_seq=n_seq, gamma=1)\n",
        "      print(\"Model Created.\")\n",
        "\n",
        "    # Save to Google Drive\n",
        "    synth.train(stock_data, train_steps=steps_per_iteration)\n",
        "    synth.save('/content/drive/MyDrive/synthesizer_down.pkl')\n",
        "    print(\"Model Saved.\")\n"
      ]
    },
    {
      "cell_type": "code",
      "execution_count": null,
      "metadata": {
        "colab": {
          "background_save": true,
          "base_uri": "https://localhost:8080/"
        },
        "id": "Oqn7nD9ybyF6",
        "outputId": "9e67ecfc-ce5c-483f-eb46-17a05e485bf5"
      },
      "outputs": [
        {
          "name": "stderr",
          "output_type": "stream",
          "text": [
            "Emddeding network training: 100%|██████████| 50000/50000 [19:19<00:00, 43.13it/s]\n",
            "Supervised network training: 100%|██████████| 50000/50000 [15:40<00:00, 53.19it/s]\n",
            "Joint networks training:  70%|███████   | 35134/50000 [6:25:14<2:48:00,  1.47it/s]"
          ]
        }
      ],
      "source": [
        "# Example of data (model) loss - when not using checkpoints, the runtime can get disconnected an that was 7h of training time completely wasted\n",
        "\n",
        "if path.exists('/content/drive/MyDrive/synthesizer_stock.pkl'):\n",
        "    synth = TimeGAN.load('/content/drive/MyDrive/synthesizer_stock.pkl')\n",
        "else:\n",
        "    synth = TimeGAN(model_parameters=gan_args, hidden_dim=24, seq_len=seq_len, n_seq=n_seq, gamma=1)\n",
        "    synth.train(stock_data, train_steps=50000)\n",
        "    synth.save('/content/drive/MyDrive/synthesizer_stock.pkl')"
      ]
    }
  ],
  "metadata": {
    "colab": {
      "provenance": [],
      "machine_shape": "hm",
      "gpuType": "A100"
    },
    "kernelspec": {
      "display_name": "Python 3",
      "name": "python3"
    },
    "language_info": {
      "name": "python"
    },
    "accelerator": "GPU"
  },
  "nbformat": 4,
  "nbformat_minor": 0
}